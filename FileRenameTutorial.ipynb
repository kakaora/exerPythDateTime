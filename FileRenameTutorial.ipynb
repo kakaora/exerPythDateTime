{
 "cells": [
  {
   "cell_type": "code",
   "execution_count": 6,
   "source": [
    "import datetime\n",
    "import pytz\n",
    "#\n",
    "# d = datetime.date(2016, 7, 24)\n",
    "#print(d)\n",
    "#tday = datetime.date.today()\n",
    "#print(tday.weekday())\n",
    "#print(tday.isoweekday())\n",
    "\n",
    "#tdelta = datetime.timedelta(days=7)\n",
    "# print(tday-tdelta)\n",
    "\n",
    "# date2 = date1 + timedelta\n",
    "# timedelta = date1 + date2\n",
    "\n",
    "#bday = datetime.date(2022, 4, 10)\n",
    "\n",
    "#till_bday = bday -tday\n",
    "#print(till_bday.total_seconds())\n",
    "\n",
    "#t = datetime.time (9, 30, 45, 100000)\n",
    "#print(t.hour)\n",
    "\n",
    "#dt = datetime.datetime(2016, 7, 26, 12, 30, 45, 100000)\n",
    "#tdelta = datetime.timedelta(hours=12)\n",
    "#print(dt + tdelta)\n",
    "#print(dt.year)\n",
    "\n",
    "#dt_today = datetime.datetime.today()\n",
    "#dt_now = datetime.datetime.now()\n",
    "#dt_utcnow = datetime.datetime.utcnow()\n",
    "\n",
    "#print(dt_today)\n",
    "#print(dt_now)\n",
    "#print(dt_utcnow)\n",
    "\n",
    "#dt = datetime.datetime(2016, 7, 26, 12, 30, 45, 100000, tzinfo=pytz.UTC)\n",
    "#print(dt)\n",
    "#dt_utcnow = datetime.datetime.now(tz=pytz.UTC)\n",
    "#print(dt_utcnow)\n",
    "\n",
    "dt_mtn = datetime.datetime.now(tz=pytz.timezone('US/Mountain'))\n",
    "#print(dt_mtn.isoformat)\n",
    "print(dt_mtn.strftime('%B %d, %Y'))\n",
    "dt_str = 'July 26, 2016'\n",
    "dt = datetime.datetime.strptime(dt_str,'%B %d, %Y')\n",
    "print(dt)\n",
    "#dt_mtn = dt_utcnow.astimezone(pytz.timezone('US/Mountain'))\n",
    "#dt_mtn = datetime.datetime.now()\n",
    "#print(dt_mtn)\n",
    "\n",
    "#mtn_tz = pytz.timezone('US/Mountain')\n",
    "#dt_mtn = mtn_tz.localize(dt_mtn)\n",
    "#dt_east = dt_mtn.astimezone(pytz.timezone('US/Eastern'))\n",
    "#print(dt_east)\n",
    "#dt_utcnow = datetime.datetime.utcnow().replace(tzinfo=pytz.UTC)\n",
    "#print(dt_utcnow)\n",
    "\n",
    "#for tz in pytz.all_timezones:\n",
    "#    print(tz)"
   ],
   "outputs": [
    {
     "output_type": "stream",
     "name": "stdout",
     "text": [
      "September 21, 2021\n",
      "2016-07-26 00:00:00\n"
     ]
    }
   ],
   "metadata": {}
  },
  {
   "cell_type": "markdown",
   "source": [],
   "metadata": {}
  }
 ],
 "metadata": {
  "orig_nbformat": 4,
  "language_info": {
   "name": "python",
   "version": "3.8.8",
   "mimetype": "text/x-python",
   "codemirror_mode": {
    "name": "ipython",
    "version": 3
   },
   "pygments_lexer": "ipython3",
   "nbconvert_exporter": "python",
   "file_extension": ".py"
  },
  "kernelspec": {
   "name": "python3",
   "display_name": "Python 3.8.8 64-bit ('base': conda)"
  },
  "interpreter": {
   "hash": "2cdd94095b038abccde5a42e2f4bb9507b5e535c2fe68e42ad5707ceffcf646b"
  }
 },
 "nbformat": 4,
 "nbformat_minor": 2
}